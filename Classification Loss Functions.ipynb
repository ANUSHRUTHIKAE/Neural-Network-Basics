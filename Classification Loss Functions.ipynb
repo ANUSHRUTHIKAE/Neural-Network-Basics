{
 "cells": [
  {
   "cell_type": "markdown",
   "id": "7ab50df9",
   "metadata": {},
   "source": [
    "## Cross Entropy\n",
    "* measure of the difference between the predicted probability distribution and the true distribution for a given set of events.\n",
    "\n",
    "## Binary Cross Entropy\n",
    "L(y, y') = - (y log(y') + (1 - y) log(1 - y') ]\n",
    "* loss function for binary classification\n",
    "* clip 0 or 1 as the formula involves log(0) or log(1-1)"
   ]
  },
  {
   "cell_type": "code",
   "execution_count": 1,
   "id": "c35e23b0",
   "metadata": {},
   "outputs": [
    {
     "name": "stdout",
     "output_type": "stream",
     "text": [
      "Binary Cross Entropy Loss: 0.19763488164214868\n"
     ]
    }
   ],
   "source": [
    "import numpy as np\n",
    "\n",
    "def binary_cross_entropy(y, y_hat):\n",
    "    epsilon = 1e-15  # Small constant to avoid log(0)\n",
    "    \n",
    "    # Clip values to avoid log(0) or log(1)\n",
    "    y_hat = np.clip(y_hat, epsilon, 1 - epsilon)\n",
    "    \n",
    "    # Calculate binary cross entropy\n",
    "    loss = - (y * np.log(y_hat) + (1 - y) * np.log(1 - y_hat))\n",
    "    \n",
    "    # Take the mean over all examples\n",
    "    mean_loss = np.mean(loss)\n",
    "    \n",
    "    return mean_loss\n",
    "\n",
    "# Example usage:\n",
    "# Assuming y is the true label (0 or 1) and y_hat is the predicted probability\n",
    "y = np.array([1, 0, 1, 0])\n",
    "y_hat = np.array([0.9, 0.1, 0.8, 0.3])\n",
    "\n",
    "loss = binary_cross_entropy(y, y_hat)\n",
    "print(f\"Binary Cross Entropy Loss: {loss}\")\n"
   ]
  },
  {
   "cell_type": "markdown",
   "id": "557b80aa",
   "metadata": {},
   "source": [
    "## Categorical Cross Entropy\n",
    "* multi class classification loss\n",
    "<img src= \"images/cce.png\" style=\"width:200px; height:50px;\">\n",
    "* e**x = b (or) log(b) = x\n",
    "* binary vector (a vector of 0s and 1s) where all elements are zero except for the index that corresponds to the category, marked as 1.\n",
    "<img src= \"images/solve.jpeg\" style=\"width:500px; height:500px;\">"
   ]
  },
  {
   "cell_type": "code",
   "execution_count": 30,
   "id": "7ef7bf48",
   "metadata": {},
   "outputs": [
    {
     "name": "stdout",
     "output_type": "stream",
     "text": [
      "[0.35667494 0.22314355 1.2039728 ]\n",
      "Categorical Cross-Entropy Loss: 0.594597099859626\n"
     ]
    }
   ],
   "source": [
    "import numpy as np\n",
    "\n",
    "def categorical_cross_entropy(true_labels, predicted_prob):\n",
    "    epsilon = 1e-15\n",
    "#     clipped = predicted_prob\n",
    "    clipped = np.clip(predicted_prob , epsilon , 1-epsilon)\n",
    "    if len(true_labels.shape) == 1:\n",
    "        loss = np.mean(-np.log(clipped[range(len(predicted_prob)), true_labels]))\n",
    "    elif len(true_labels.shape) == 2:\n",
    "        loss = np.mean(-np.log(np.sum(clipped*true_labels , axis =1)))\n",
    "    return loss\n",
    "\n",
    "# Example true labels (one-hot encoded)\n",
    "true_labels = np.array([[0, 1, 0], [1, 0, 0], [0, 0, 1]])\n",
    "\n",
    "# Example true labels\n",
    "# true_labels = np.array([1, 0, 2])\n",
    "\n",
    "# Example predicted probabilities or soft max outputs\n",
    "predicted_probs = np.array([[0.2, 0.7, 0.1], [0.8, 0.1, 0.1], [0.3, 0.4, 0.3]])\n",
    "\n",
    "# Calculate categorical cross-entropy loss\n",
    "loss = categorical_cross_entropy(true_labels, predicted_probs)\n",
    "\n",
    "# Print the loss\n",
    "print(\"Categorical Cross-Entropy Loss:\", loss)\n"
   ]
  },
  {
   "cell_type": "markdown",
   "id": "381cbd1a",
   "metadata": {},
   "source": [
    "## KL Divergence\n",
    "* measure of how one probability distribution diverges from a second, expected probability distribution.\n",
    "* <img src= \"images/KL.jpeg\" style=\"width:500px; height:500px;\">"
   ]
  },
  {
   "cell_type": "code",
   "execution_count": 6,
   "id": "42aa63fc",
   "metadata": {},
   "outputs": [
    {
     "name": "stdout",
     "output_type": "stream",
     "text": [
      "[-0.08109302  0.11157178  0.        ]\n",
      "KL Divergence: 0.030478754035472025\n"
     ]
    }
   ],
   "source": [
    "import numpy as np\n",
    "\n",
    "def kl_divergence(p, q):\n",
    "    \"\"\"\n",
    "    Calculate KL Divergence between two probability distributions p and q.\n",
    "    \n",
    "    Parameters:\n",
    "    - p, q: numpy arrays representing probability distributions.\n",
    "    \"\"\"\n",
    "    epsilon = 1e-15  # Small constant to avoid log(0)\n",
    "    p = np.clip(p, epsilon, 1 - epsilon)\n",
    "    q = np.clip(q, epsilon, 1 - epsilon)\n",
    "    print(p * np.log(p / q))\n",
    "    \n",
    "    return np.sum(p * np.log(p / q))\n",
    "\n",
    "# Example:\n",
    "# True distribution\n",
    "p_distribution = np.array([0.2, 0.5, 0.3])\n",
    "\n",
    "# Learned/approximating distribution\n",
    "q_distribution = np.array([0.3, 0.4, 0.3])\n",
    "\n",
    "# Calculate KL Divergence\n",
    "kl_value = kl_divergence(p_distribution, q_distribution)\n",
    "\n",
    "# Print the result\n",
    "print(\"KL Divergence:\", kl_value)\n"
   ]
  },
  {
   "cell_type": "markdown",
   "id": "dba5e068",
   "metadata": {},
   "source": [
    "## Hinge Loss\n",
    "\n",
    "Hinge loss is a loss function commonly used in machine learning for training classifiers, particularly in the context of support vector machines (SVMs). It is designed to maximize the margin between different classes\n",
    "<img src= \"images/hinge.jpeg\" style=\"width:500px; height:500px;\">"
   ]
  },
  {
   "cell_type": "code",
   "execution_count": 7,
   "id": "e70cc7b6",
   "metadata": {},
   "outputs": [
    {
     "name": "stdout",
     "output_type": "stream",
     "text": [
      "Hinge Loss: 0.5\n"
     ]
    }
   ],
   "source": [
    "import numpy as np\n",
    "\n",
    "def hinge_loss(y_true, raw_output):\n",
    "    \"\"\"\n",
    "    Calculate hinge loss for a single sample.\n",
    "\n",
    "    Parameters:\n",
    "    - y_true: True class label (-1 or 1).\n",
    "    - raw_output: Raw output of the classifier.\n",
    "\n",
    "    Returns:\n",
    "    Hinge loss.\n",
    "    \"\"\"\n",
    "    loss = max(0, 1 - y_true * raw_output)\n",
    "    return loss\n",
    "\n",
    "# Example:\n",
    "# True class label\n",
    "y_true = 1\n",
    "\n",
    "# Raw output of the classifier\n",
    "raw_output = 0.5\n",
    "\n",
    "# Calculate hinge loss\n",
    "loss = hinge_loss(y_true, raw_output)\n",
    "\n",
    "# Print the result\n",
    "print(\"Hinge Loss:\", loss)\n"
   ]
  }
 ],
 "metadata": {
  "kernelspec": {
   "display_name": "Python 3 (ipykernel)",
   "language": "python",
   "name": "python3"
  },
  "language_info": {
   "codemirror_mode": {
    "name": "ipython",
    "version": 3
   },
   "file_extension": ".py",
   "mimetype": "text/x-python",
   "name": "python",
   "nbconvert_exporter": "python",
   "pygments_lexer": "ipython3",
   "version": "3.11.3"
  }
 },
 "nbformat": 4,
 "nbformat_minor": 5
}
